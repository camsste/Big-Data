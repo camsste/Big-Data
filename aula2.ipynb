{
 "cells": [
  {
   "cell_type": "code",
   "execution_count": null,
   "metadata": {},
   "outputs": [],
   "source": [
    "v1 = input('Digite um valor inteiro: ')\n",
    "v2 = input('Digite outro valor inteiro: ')"
   ]
  },
  {
   "cell_type": "code",
   "execution_count": null,
   "metadata": {},
   "outputs": [],
   "source": [
    "print(v1 == v2)\n",
    "print(v1 > v2)\n",
    "print(v1 < v2)\n",
    "print(v1 >= v2)\n",
    "print(v1 <= v2)"
   ]
  },
  {
   "cell_type": "code",
   "execution_count": null,
   "metadata": {},
   "outputs": [],
   "source": [
    "L1 = []\n",
    "L2 = list()"
   ]
  },
  {
   "cell_type": "code",
   "execution_count": null,
   "metadata": {},
   "outputs": [],
   "source": [
    "dias = [3, 1, 10]\n",
    "\n",
    "print(dias[0]) #3\n",
    "\n",
    "print(dias[1]) #1\n",
    "\n",
    "print(dias[2]) #10"
   ]
  },
  {
   "cell_type": "code",
   "execution_count": null,
   "metadata": {},
   "outputs": [],
   "source": [
    "Z = [3, 8, 9]\n",
    "\n",
    "Z[0] = 7\n",
    "\n",
    "print(Z) #[7, 8, 9]"
   ]
  },
  {
   "cell_type": "code",
   "execution_count": null,
   "metadata": {},
   "outputs": [],
   "source": [
    "a = [81, 82, 83]\n",
    "b = a[:]\n",
    "print(a==b)\n"
   ]
  },
  {
   "cell_type": "code",
   "execution_count": null,
   "metadata": {},
   "outputs": [],
   "source": [
    "uma_lista = ['a', 'b', 'c', 'd', 'e', 'f']\n",
    "\n",
    "print(uma_lista[1:3])\n",
    "print(uma_lista[:4])\n",
    "print(uma_lista[3:])\n",
    "print(uma_lista[:])"
   ]
  },
  {
   "cell_type": "code",
   "execution_count": null,
   "metadata": {},
   "outputs": [],
   "source": [
    "lista = [76, 92.3, 'oi', True, 4, 76]\n",
    "\n",
    "lista += ['pitomba', 76]\n",
    "\n",
    "lista = lista[:3] + ['Cibele'] + lista[3:]\n",
    "\n",
    "lista = [99] + lista[:]\n",
    "\n",
    "c = 0\n",
    "for value in lista:\n",
    "    if value == 'oi':\n",
    "        print(c)\n",
    "    else:\n",
    "        c += 1\n",
    "\n",
    "c = 0\n",
    "for value in lista:\n",
    "    if value == True:\n",
    "        lista = lista[:c] + lista[c+1:]\n",
    "    else:\n",
    "        c += 1\n"
   ]
  },
  {
   "cell_type": "code",
   "execution_count": null,
   "metadata": {},
   "outputs": [],
   "source": [
    "lista2 = [4, 2, 8, 6, 5]\n",
    "\n",
    "lista2 = lista + ['Cibele']\n",
    "\n",
    "print(lista2)"
   ]
  },
  {
   "cell_type": "code",
   "execution_count": null,
   "metadata": {},
   "outputs": [],
   "source": [
    "d = {\n",
    "    'laranjas': 15,\n",
    "    'bananas': 35,\n",
    "    'siriguelas': 12\n",
    "}\n",
    "\n",
    "d['bananas']"
   ]
  },
  {
   "cell_type": "code",
   "execution_count": null,
   "metadata": {},
   "outputs": [],
   "source": [
    "d['pitombas'] = 20\n",
    "\n",
    "len(d)"
   ]
  },
  {
   "cell_type": "code",
   "execution_count": null,
   "metadata": {},
   "outputs": [],
   "source": [
    "frutas = ['pinha', 'oiti coró', 'jaca', 'tamarindo']\n",
    "\n",
    "print([1, 2] + [3, 4])\n",
    "\n",
    "print(frutas + [6, 7, 8, 9])\n",
    "\n",
    "print([0]*4)\n",
    "print([1, 2, ['oi', 'tchau']])"
   ]
  },
  {
   "cell_type": "code",
   "execution_count": null,
   "metadata": {},
   "outputs": [],
   "source": [
    "lista"
   ]
  }
 ],
 "metadata": {
  "kernelspec": {
   "display_name": "Python 3",
   "language": "python",
   "name": "python3"
  },
  "language_info": {
   "codemirror_mode": {
    "name": "ipython",
    "version": 3
   },
   "file_extension": ".py",
   "mimetype": "text/x-python",
   "name": "python",
   "nbconvert_exporter": "python",
   "pygments_lexer": "ipython3",
   "version": "3.12.2"
  }
 },
 "nbformat": 4,
 "nbformat_minor": 2
}
